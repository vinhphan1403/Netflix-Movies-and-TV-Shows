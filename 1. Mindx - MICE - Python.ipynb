{
 "cells": [
  {
   "cell_type": "code",
   "execution_count": 5,
   "metadata": {},
   "outputs": [
    {
     "name": "stdout",
     "output_type": "stream",
     "text": [
      "     show_id     type                  title         director  \\\n",
      "0         s1    Movie   Dick Johnson Is Dead  Kirsten Johnson   \n",
      "1         s2  TV Show          Blood & Water              NaN   \n",
      "2         s3  TV Show              Ganglands  Julien Leclercq   \n",
      "3         s4  TV Show  Jailbirds New Orleans              NaN   \n",
      "4         s5  TV Show           Kota Factory              NaN   \n",
      "...      ...      ...                    ...              ...   \n",
      "8802   s8803    Movie                 Zodiac    David Fincher   \n",
      "8803   s8804  TV Show            Zombie Dumb              NaN   \n",
      "8804   s8805    Movie             Zombieland  Ruben Fleischer   \n",
      "8805   s8806    Movie                   Zoom     Peter Hewitt   \n",
      "8806   s8807    Movie                 Zubaan      Mozez Singh   \n",
      "\n",
      "                                                   cast        country  \\\n",
      "0                                                   NaN  United States   \n",
      "1     Ama Qamata, Khosi Ngema, Gail Mabalane, Thaban...   South Africa   \n",
      "2     Sami Bouajila, Tracy Gotoas, Samuel Jouy, Nabi...            NaN   \n",
      "3                                                   NaN            NaN   \n",
      "4     Mayur More, Jitendra Kumar, Ranjan Raj, Alam K...          India   \n",
      "...                                                 ...            ...   \n",
      "8802  Mark Ruffalo, Jake Gyllenhaal, Robert Downey J...  United States   \n",
      "8803                                                NaN            NaN   \n",
      "8804  Jesse Eisenberg, Woody Harrelson, Emma Stone, ...  United States   \n",
      "8805  Tim Allen, Courteney Cox, Chevy Chase, Kate Ma...  United States   \n",
      "8806  Vicky Kaushal, Sarah-Jane Dias, Raaghav Chanan...          India   \n",
      "\n",
      "     date_added  release_year rating   duration  \\\n",
      "0     25-Sep-21          2020  PG-13     90 min   \n",
      "1     24-Sep-21          2021  TV-MA  2 Seasons   \n",
      "2     24-Sep-21          2021  TV-MA   1 Season   \n",
      "3     24-Sep-21          2021  TV-MA   1 Season   \n",
      "4     24-Sep-21          2021  TV-MA  2 Seasons   \n",
      "...         ...           ...    ...        ...   \n",
      "8802  20-Nov-19          2007      R    158 min   \n",
      "8803   1-Jul-19          2018  TV-Y7  2 Seasons   \n",
      "8804   1-Nov-19          2009      R     88 min   \n",
      "8805  11-Jan-20          2006     PG     88 min   \n",
      "8806   2-Mar-19          2015  TV-14    111 min   \n",
      "\n",
      "                                              listed_in  \\\n",
      "0                                         Documentaries   \n",
      "1       International TV Shows, TV Dramas, TV Mysteries   \n",
      "2     Crime TV Shows, International TV Shows, TV Act...   \n",
      "3                                Docuseries, Reality TV   \n",
      "4     International TV Shows, Romantic TV Shows, TV ...   \n",
      "...                                                 ...   \n",
      "8802                     Cult Movies, Dramas, Thrillers   \n",
      "8803             Kids' TV, Korean TV Shows, TV Comedies   \n",
      "8804                            Comedies, Horror Movies   \n",
      "8805                 Children & Family Movies, Comedies   \n",
      "8806     Dramas, International Movies, Music & Musicals   \n",
      "\n",
      "                                            description  \n",
      "0     As her father nears the end of his life, filmm...  \n",
      "1     After crossing paths at a party, a Cape Town t...  \n",
      "2     To protect his family from a powerful drug lor...  \n",
      "3     Feuds, flirtations and toilet talk go down amo...  \n",
      "4     In a city of coaching centers known to train I...  \n",
      "...                                                 ...  \n",
      "8802  A political cartoonist, a crime reporter and a...  \n",
      "8803  While living alone in a spooky town, a young g...  \n",
      "8804  Looking to survive in a world taken over by zo...  \n",
      "8805  Dragged from civilian life, a former superhero...  \n",
      "8806  A scrappy but poor boy worms his way into a ty...  \n",
      "\n",
      "[8807 rows x 12 columns]\n"
     ]
    }
   ],
   "source": [
    "# Đọc file\n",
    "import pandas\n",
    "df_data = pandas.read_csv('D:\\MindX\\Part_1\\Test\\etflix_titles.csv')\n",
    "print(df_data)\n"
   ]
  },
  {
   "cell_type": "code",
   "execution_count": 6,
   "metadata": {},
   "outputs": [
    {
     "name": "stdout",
     "output_type": "stream",
     "text": [
      "(8807, 12)\n",
      "Index(['show_id', 'type', 'title', 'director', 'cast', 'country', 'date_added',\n",
      "       'release_year', 'rating', 'duration', 'listed_in', 'description'],\n",
      "      dtype='object')\n"
     ]
    }
   ],
   "source": [
    "# Kiể tra số lượng dòng và cột\n",
    "# Sau đóng kiểm tra số dòng\n",
    "import pandas\n",
    "print(df_data.shape)\n",
    "print(df_data.columns)"
   ]
  },
  {
   "cell_type": "code",
   "execution_count": 7,
   "metadata": {},
   "outputs": [
    {
     "name": "stdout",
     "output_type": "stream",
     "text": [
      "     show_id     type                  title        country date_added  \\\n",
      "0         s1    Movie   Dick Johnson Is Dead  United States  25-Sep-21   \n",
      "1         s2  TV Show          Blood & Water   South Africa  24-Sep-21   \n",
      "2         s3  TV Show              Ganglands            NaN  24-Sep-21   \n",
      "3         s4  TV Show  Jailbirds New Orleans            NaN  24-Sep-21   \n",
      "4         s5  TV Show           Kota Factory          India  24-Sep-21   \n",
      "...      ...      ...                    ...            ...        ...   \n",
      "8802   s8803    Movie                 Zodiac  United States  20-Nov-19   \n",
      "8803   s8804  TV Show            Zombie Dumb            NaN   1-Jul-19   \n",
      "8804   s8805    Movie             Zombieland  United States   1-Nov-19   \n",
      "8805   s8806    Movie                   Zoom  United States  11-Jan-20   \n",
      "8806   s8807    Movie                 Zubaan          India   2-Mar-19   \n",
      "\n",
      "      release_year rating   duration  \\\n",
      "0             2020  PG-13     90 min   \n",
      "1             2021  TV-MA  2 Seasons   \n",
      "2             2021  TV-MA   1 Season   \n",
      "3             2021  TV-MA   1 Season   \n",
      "4             2021  TV-MA  2 Seasons   \n",
      "...            ...    ...        ...   \n",
      "8802          2007      R    158 min   \n",
      "8803          2018  TV-Y7  2 Seasons   \n",
      "8804          2009      R     88 min   \n",
      "8805          2006     PG     88 min   \n",
      "8806          2015  TV-14    111 min   \n",
      "\n",
      "                                              listed_in  \\\n",
      "0                                         Documentaries   \n",
      "1       International TV Shows, TV Dramas, TV Mysteries   \n",
      "2     Crime TV Shows, International TV Shows, TV Act...   \n",
      "3                                Docuseries, Reality TV   \n",
      "4     International TV Shows, Romantic TV Shows, TV ...   \n",
      "...                                                 ...   \n",
      "8802                     Cult Movies, Dramas, Thrillers   \n",
      "8803             Kids' TV, Korean TV Shows, TV Comedies   \n",
      "8804                            Comedies, Horror Movies   \n",
      "8805                 Children & Family Movies, Comedies   \n",
      "8806     Dramas, International Movies, Music & Musicals   \n",
      "\n",
      "                                            description  \n",
      "0     As her father nears the end of his life, filmm...  \n",
      "1     After crossing paths at a party, a Cape Town t...  \n",
      "2     To protect his family from a powerful drug lor...  \n",
      "3     Feuds, flirtations and toilet talk go down amo...  \n",
      "4     In a city of coaching centers known to train I...  \n",
      "...                                                 ...  \n",
      "8802  A political cartoonist, a crime reporter and a...  \n",
      "8803  While living alone in a spooky town, a young g...  \n",
      "8804  Looking to survive in a world taken over by zo...  \n",
      "8805  Dragged from civilian life, a former superhero...  \n",
      "8806  A scrappy but poor boy worms his way into a ty...  \n",
      "\n",
      "[8807 rows x 10 columns]\n"
     ]
    }
   ],
   "source": [
    "# Xóa cột director và cast do dữ liệu trống quá nhiều và không dùng cho phân tích\n",
    "del df_data['director']\n",
    "del df_data['cast']\n",
    "print(df_data)"
   ]
  },
  {
   "cell_type": "code",
   "execution_count": 8,
   "metadata": {},
   "outputs": [
    {
     "name": "stdout",
     "output_type": "stream",
     "text": [
      "(8807, 10)\n",
      "Index(['show_id', 'type', 'title', 'country', 'date_added', 'release_year',\n",
      "       'rating', 'duration', 'listed_in', 'description'],\n",
      "      dtype='object')\n"
     ]
    }
   ],
   "source": [
    "# Kiểm tra số lượng dòng và cột\n",
    "# Sau đóng kiểm tra số dòng\n",
    "import pandas\n",
    "print(df_data.shape)\n",
    "print(df_data.columns)"
   ]
  },
  {
   "cell_type": "code",
   "execution_count": 9,
   "metadata": {},
   "outputs": [
    {
     "name": "stdout",
     "output_type": "stream",
     "text": [
      "show_id           0\n",
      "type              0\n",
      "title             0\n",
      "country         831\n",
      "date_added       10\n",
      "release_year      0\n",
      "rating            4\n",
      "duration          3\n",
      "listed_in         0\n",
      "description       0\n",
      "dtype: int64\n"
     ]
    }
   ],
   "source": [
    "# Kiểm tra số dòng Null của từng cột\n",
    "missing_count = df_data.isnull().sum()\n",
    "print(missing_count)\n"
   ]
  },
  {
   "cell_type": "code",
   "execution_count": 10,
   "metadata": {},
   "outputs": [
    {
     "name": "stdout",
     "output_type": "stream",
     "text": [
      "show_id         0\n",
      "type            0\n",
      "title           0\n",
      "country         0\n",
      "date_added      0\n",
      "release_year    0\n",
      "rating          0\n",
      "duration        0\n",
      "listed_in       0\n",
      "description     0\n",
      "dtype: int64\n"
     ]
    }
   ],
   "source": [
    "# Xóa các dòng null\n",
    "df_data1 = df_data.dropna(subset=['country','duration','rating','date_added'])\n",
    "missing_count1 = df_data1.isnull().sum()\n",
    "print(missing_count1)\n"
   ]
  },
  {
   "cell_type": "code",
   "execution_count": 11,
   "metadata": {},
   "outputs": [
    {
     "name": "stdout",
     "output_type": "stream",
     "text": [
      "show_id         object\n",
      "type            object\n",
      "title           object\n",
      "country         object\n",
      "date_added      object\n",
      "release_year     int64\n",
      "rating          object\n",
      "duration        object\n",
      "listed_in       object\n",
      "description     object\n",
      "dtype: object\n"
     ]
    }
   ],
   "source": [
    "# Kiểm tra kiểu dữ liệu\n",
    "print(df_data1.dtypes)"
   ]
  },
  {
   "cell_type": "code",
   "execution_count": 12,
   "metadata": {},
   "outputs": [
    {
     "name": "stdout",
     "output_type": "stream",
     "text": [
      "show_id                 object\n",
      "type                    object\n",
      "title                   object\n",
      "country                 object\n",
      "date_added      datetime64[ns]\n",
      "release_year             int64\n",
      "rating                  object\n",
      "duration                object\n",
      "listed_in               object\n",
      "description             object\n",
      "dtype: object\n"
     ]
    },
    {
     "name": "stderr",
     "output_type": "stream",
     "text": [
      "C:\\Users\\vinhp\\AppData\\Local\\Temp\\ipykernel_28076\\3693370923.py:2: SettingWithCopyWarning: \n",
      "A value is trying to be set on a copy of a slice from a DataFrame.\n",
      "Try using .loc[row_indexer,col_indexer] = value instead\n",
      "\n",
      "See the caveats in the documentation: https://pandas.pydata.org/pandas-docs/stable/user_guide/indexing.html#returning-a-view-versus-a-copy\n",
      "  df_data1['date_added'] = pandas.to_datetime(df_data1['date_added'])\n"
     ]
    }
   ],
   "source": [
    "# Chuyển kiểu dự liệu cột\n",
    "df_data1['date_added'] = pandas.to_datetime(df_data1['date_added'])\n",
    "print(df_data1.dtypes)"
   ]
  },
  {
   "cell_type": "code",
   "execution_count": 13,
   "metadata": {},
   "outputs": [
    {
     "name": "stderr",
     "output_type": "stream",
     "text": [
      "C:\\Users\\vinhp\\AppData\\Local\\Temp\\ipykernel_28076\\980132003.py:22: FutureWarning: The default value of regex will change from True to False in a future version.\n",
      "  df_data1['duration'] = df_data1['duration'].str.replace('[a-zA-Z]', '')\n",
      "C:\\Users\\vinhp\\AppData\\Local\\Temp\\ipykernel_28076\\980132003.py:22: SettingWithCopyWarning: \n",
      "A value is trying to be set on a copy of a slice from a DataFrame.\n",
      "Try using .loc[row_indexer,col_indexer] = value instead\n",
      "\n",
      "See the caveats in the documentation: https://pandas.pydata.org/pandas-docs/stable/user_guide/indexing.html#returning-a-view-versus-a-copy\n",
      "  df_data1['duration'] = df_data1['duration'].str.replace('[a-zA-Z]', '')\n"
     ]
    }
   ],
   "source": [
    "# Convert giá trị trong cột\n",
    "df_data1.loc[df_data1['duration'] == '1 Season', 'duration'] = '966 min'\n",
    "df_data1.loc[df_data1['duration'] == '2 Seasons', 'duration'] = '1932 min'\n",
    "df_data1.loc[df_data1['duration'] == '3 Seasons', 'duration'] = '2898 min'\n",
    "df_data1.loc[df_data1['duration'] == '4 Seasons', 'duration'] = '3864 min'\n",
    "df_data1.loc[df_data1['duration'] == '5 Seasons', 'duration'] = '4830 min'\n",
    "df_data1.loc[df_data1['duration'] == '6 Seasons', 'duration'] = '5796 min'\n",
    "df_data1.loc[df_data1['duration'] == '7 Seasons', 'duration'] = '6762 min'\n",
    "df_data1.loc[df_data1['duration'] == '8 Seasons', 'duration'] = '7728 min'\n",
    "df_data1.loc[df_data1['duration'] == '9 Seasons', 'duration'] = '8694 min'\n",
    "df_data1.loc[df_data1['duration'] == '10 Seasons', 'duration'] = '9660 min'\n",
    "df_data1.loc[df_data1['duration'] == '11 Seasons', 'duration'] = '10626 min'\n",
    "df_data1.loc[df_data1['duration'] == '12 Seasons', 'duration'] = '11592 min'\n",
    "df_data1.loc[df_data1['duration'] == '13 Seasons', 'duration'] = '12558 min'\n",
    "df_data1.loc[df_data1['duration'] == '14 Seasons', 'duration'] = '13524 min'\n",
    "df_data1.loc[df_data1['duration'] == '15 Seasons', 'duration'] = '14490 min'\n",
    "df_data1.loc[df_data1['duration'] == '16 Seasons', 'duration'] = '15456 min'\n",
    "df_data1.loc[df_data1['duration'] == '17 Seasons', 'duration'] = '16422 min'\n",
    "df_data1.loc[df_data1['duration'] == '18 Seasons', 'duration'] = '17388 min'\n",
    "df_data1.loc[df_data1['duration'] == '19 Seasons', 'duration'] = '18354 min'\n",
    "df_data1.loc[df_data1['duration'] == '20 Seasons', 'duration'] = '19320 min'\n",
    "df_data1['duration'] = df_data1['duration'].str.replace('[a-zA-Z]', '')"
   ]
  },
  {
   "cell_type": "code",
   "execution_count": 14,
   "metadata": {},
   "outputs": [],
   "source": [
    "# Convert cột country\n",
    "df_data1.loc[df_data1['country'].str.contains(','), 'country'] = 'Multinational'\n"
   ]
  },
  {
   "cell_type": "code",
   "execution_count": 15,
   "metadata": {},
   "outputs": [
    {
     "name": "stderr",
     "output_type": "stream",
     "text": [
      "C:\\Users\\vinhp\\AppData\\Local\\Temp\\ipykernel_28076\\3274798968.py:2: SettingWithCopyWarning: \n",
      "A value is trying to be set on a copy of a slice from a DataFrame.\n",
      "Try using .loc[row_indexer,col_indexer] = value instead\n",
      "\n",
      "See the caveats in the documentation: https://pandas.pydata.org/pandas-docs/stable/user_guide/indexing.html#returning-a-view-versus-a-copy\n",
      "  df_data1['duration'] = df_data1['duration'].astype(int)\n"
     ]
    }
   ],
   "source": [
    "#Chuyển kiểu dự liệu cột duration\n",
    "df_data1['duration'] = df_data1['duration'].astype(int)\n"
   ]
  },
  {
   "cell_type": "code",
   "execution_count": 16,
   "metadata": {},
   "outputs": [
    {
     "name": "stdout",
     "output_type": "stream",
     "text": [
      "show_id                 object\n",
      "type                    object\n",
      "title                   object\n",
      "country                 object\n",
      "date_added      datetime64[ns]\n",
      "release_year             int64\n",
      "rating                  object\n",
      "duration                 int32\n",
      "listed_in               object\n",
      "description             object\n",
      "dtype: object\n"
     ]
    }
   ],
   "source": [
    "# Kiểm tra kiểu dữ liệu\n",
    "print(df_data1.dtypes)"
   ]
  },
  {
   "cell_type": "code",
   "execution_count": 17,
   "metadata": {},
   "outputs": [],
   "source": [
    "# Xuất file \n",
    "df_data1.to_csv('D:\\MindX\\Part_1\\Test\\etflix_titles1.csv', index=False)  "
   ]
  }
 ],
 "metadata": {
  "kernelspec": {
   "display_name": "Python 3",
   "language": "python",
   "name": "python3"
  },
  "language_info": {
   "codemirror_mode": {
    "name": "ipython",
    "version": 3
   },
   "file_extension": ".py",
   "mimetype": "text/x-python",
   "name": "python",
   "nbconvert_exporter": "python",
   "pygments_lexer": "ipython3",
   "version": "3.11.1"
  },
  "orig_nbformat": 4
 },
 "nbformat": 4,
 "nbformat_minor": 2
}
